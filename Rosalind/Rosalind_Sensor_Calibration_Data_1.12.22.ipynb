{
 "cells": [
  {
   "cell_type": "code",
   "execution_count": null,
   "id": "1eec029c",
   "metadata": {},
   "outputs": [],
   "source": [
    "pip install pigpio --user"
   ]
  },
  {
   "cell_type": "code",
   "execution_count": 1,
   "id": "a50674a9",
   "metadata": {},
   "outputs": [],
   "source": [
    "import pandas as pd\n",
    "# pd.set_option('display.max_rows', None)  # or 1000\n",
    "\n",
    "from matplotlib import pyplot as plt\n",
    "import pigpio\n",
    "\n",
    "from time import sleep\n",
    "import sys\n",
    "\n",
    "import Rosalind_Support_Functions as RSF\n",
    "from Rosalind_Drive_Functions import *\n"
   ]
  },
  {
   "cell_type": "code",
   "execution_count": 2,
   "id": "164a64d2",
   "metadata": {},
   "outputs": [
    {
     "name": "stdout",
     "output_type": "stream",
     "text": [
      "41 42\n"
     ]
    }
   ],
   "source": [
    "#########\n",
    "# SETUP #\n",
    "#########\n",
    "\n",
    "ip_Address = '10.3.141.249'\n",
    "pi = pigpio.pi(ip_Address) # Sets up RPi as pigpio object\n",
    "\n",
    "mux = pi.i2c_open(1, 0x70) # Sets up multiplexer as pigpio object\n",
    "\n",
    "sensorList = RSF.sensorList\n",
    "sensor = RSF.setUpSensors(pi, mux, sensorList) # Sets up pigpio objects for each sensor\n",
    "\n",
    "r1,g1,b1,c1,r2,g2,b2,c2 = RSF.getSensorData(pi, mux, sensorList, sensor)\n",
    "print(c1,c2)\n",
    "\n",
    "#############\n",
    "# VARIABLES #\n",
    "#############\n",
    "\n",
    "speed = 70        # maximum motor speed\n",
    "lower = 40\n",
    "cut = 1\n",
    "threshold = 70\n",
    "ko = .2\n",
    "clim = .5\n",
    "i = 0\n"
   ]
  },
  {
   "cell_type": "code",
   "execution_count": 3,
   "id": "8664d29b",
   "metadata": {},
   "outputs": [
    {
     "ename": "NameError",
     "evalue": "name 'mux' is not defined",
     "output_type": "error",
     "traceback": [
      "\u001b[1;31m---------------------------------------------------------------------------\u001b[0m",
      "\u001b[1;31mNameError\u001b[0m                                 Traceback (most recent call last)",
      "\u001b[1;32m<ipython-input-3-d8241b0aabe4>\u001b[0m in \u001b[0;36m<module>\u001b[1;34m\u001b[0m\n\u001b[1;32m----> 1\u001b[1;33m \u001b[0msensorData\u001b[0m \u001b[1;33m=\u001b[0m \u001b[0mcalibrateMe\u001b[0m\u001b[1;33m(\u001b[0m\u001b[0mpi\u001b[0m\u001b[1;33m,\u001b[0m \u001b[0mspeed\u001b[0m\u001b[1;33m,\u001b[0m \u001b[0mlower\u001b[0m\u001b[1;33m)\u001b[0m\u001b[1;33m\u001b[0m\u001b[1;33m\u001b[0m\u001b[0m\n\u001b[0m\u001b[0;32m      2\u001b[0m \u001b[0mprint\u001b[0m\u001b[1;33m(\u001b[0m\u001b[0msensorData\u001b[0m\u001b[1;33m)\u001b[0m\u001b[1;33m\u001b[0m\u001b[1;33m\u001b[0m\u001b[0m\n\u001b[0;32m      3\u001b[0m \u001b[1;33m\u001b[0m\u001b[0m\n\u001b[0;32m      4\u001b[0m \u001b[1;33m\u001b[0m\u001b[0m\n\u001b[0;32m      5\u001b[0m \u001b[1;31m###################\u001b[0m\u001b[1;33m\u001b[0m\u001b[1;33m\u001b[0m\u001b[1;33m\u001b[0m\u001b[0m\n",
      "\u001b[1;32m~\\Dropbox\\Sam's Stuff\\A Stage Robot\\A_Stage_Robot\\Rosalind\\Rosalind_Drive_Functions.py\u001b[0m in \u001b[0;36mcalibrateMe\u001b[1;34m(pi, speed, lower)\u001b[0m\n\u001b[0;32m     37\u001b[0m \u001b[1;32mdef\u001b[0m \u001b[0mcalibrateMe\u001b[0m\u001b[1;33m(\u001b[0m\u001b[0mpi\u001b[0m\u001b[1;33m,\u001b[0m \u001b[0mspeed\u001b[0m\u001b[1;33m,\u001b[0m \u001b[0mlower\u001b[0m\u001b[1;33m)\u001b[0m\u001b[1;33m:\u001b[0m\u001b[1;33m\u001b[0m\u001b[1;33m\u001b[0m\u001b[0m\n\u001b[0;32m     38\u001b[0m     \u001b[0msensorData\u001b[0m \u001b[1;33m=\u001b[0m \u001b[1;33m{\u001b[0m\u001b[1;33m}\u001b[0m\u001b[1;33m\u001b[0m\u001b[1;33m\u001b[0m\u001b[0m\n\u001b[1;32m---> 39\u001b[1;33m     \u001b[0mr1\u001b[0m\u001b[1;33m,\u001b[0m\u001b[0mg1\u001b[0m\u001b[1;33m,\u001b[0m\u001b[0mb1\u001b[0m\u001b[1;33m,\u001b[0m\u001b[0mc1\u001b[0m\u001b[1;33m,\u001b[0m\u001b[0mr2\u001b[0m\u001b[1;33m,\u001b[0m\u001b[0mg2\u001b[0m\u001b[1;33m,\u001b[0m\u001b[0mb2\u001b[0m\u001b[1;33m,\u001b[0m\u001b[0mc2\u001b[0m \u001b[1;33m=\u001b[0m \u001b[0mRSF\u001b[0m\u001b[1;33m.\u001b[0m\u001b[0mgetSensorData\u001b[0m\u001b[1;33m(\u001b[0m\u001b[0mpi\u001b[0m\u001b[1;33m,\u001b[0m \u001b[0mmux\u001b[0m\u001b[1;33m,\u001b[0m \u001b[0msensorList\u001b[0m\u001b[1;33m,\u001b[0m \u001b[0msensor\u001b[0m\u001b[1;33m)\u001b[0m\u001b[1;33m\u001b[0m\u001b[1;33m\u001b[0m\u001b[0m\n\u001b[0m\u001b[0;32m     40\u001b[0m     \u001b[0mkey\u001b[0m \u001b[1;33m=\u001b[0m \u001b[1;36m1\u001b[0m\u001b[1;33m\u001b[0m\u001b[1;33m\u001b[0m\u001b[0m\n\u001b[0;32m     41\u001b[0m \u001b[1;33m\u001b[0m\u001b[0m\n",
      "\u001b[1;31mNameError\u001b[0m: name 'mux' is not defined"
     ]
    },
    {
     "name": "stderr",
     "output_type": "stream",
     "text": [
      "Exception in thread Thread-6:\n",
      "Traceback (most recent call last):\n",
      "  File \"C:\\Users\\sshanks\\Anaconda3\\lib\\threading.py\", line 932, in _bootstrap_inner\n",
      "    self.run()\n",
      "  File \"C:\\Users\\sshanks\\AppData\\Roaming\\Python\\Python38\\site-packages\\pigpio.py\", line 1196, in run\n",
      "    buf += self.sl.s.recv(RECV_SIZ)\n",
      "ConnectionAbortedError: [WinError 10053] An established connection was aborted by the software in your host machine\n"
     ]
    }
   ],
   "source": [
    "sensorData = calibrateMe(pi, speed, lower)\n",
    "print(sensorData)\n",
    "                \n",
    "\n",
    "###################\n",
    "# SYSTEM SHUTDOWN #\n",
    "###################\n",
    "\n",
    "RSF.shutdownSensors(pi, mux, sensorList, sensor)\n",
    "pi.i2c_close(mux)\n",
    "\n",
    "print('All done!')"
   ]
  },
  {
   "cell_type": "code",
   "execution_count": null,
   "id": "be79226c",
   "metadata": {},
   "outputs": [],
   "source": [
    "data = sensorData\n",
    "\n",
    "df = pd.DataFrame.from_dict(data, orient='index', columns=['c1', 'c2'])\n",
    "df"
   ]
  },
  {
   "cell_type": "code",
   "execution_count": null,
   "id": "47e80e4b",
   "metadata": {},
   "outputs": [],
   "source": [
    "plt.plot(df.c1)\n",
    "plt.plot(df.c2)\n",
    "plt.show()"
   ]
  },
  {
   "cell_type": "code",
   "execution_count": null,
   "id": "51a1de84",
   "metadata": {},
   "outputs": [],
   "source": []
  }
 ],
 "metadata": {
  "celltoolbar": "Raw Cell Format",
  "kernelspec": {
   "display_name": "Python 3",
   "language": "python",
   "name": "python3"
  },
  "language_info": {
   "codemirror_mode": {
    "name": "ipython",
    "version": 3
   },
   "file_extension": ".py",
   "mimetype": "text/x-python",
   "name": "python",
   "nbconvert_exporter": "python",
   "pygments_lexer": "ipython3",
   "version": "3.8.8"
  }
 },
 "nbformat": 4,
 "nbformat_minor": 5
}
